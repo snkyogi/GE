{
 "cells": [
  {
   "cell_type": "code",
   "execution_count": 2,
   "id": "19879e4c-a14b-472f-9aeb-3bb51f954ffb",
   "metadata": {},
   "outputs": [],
   "source": [
    "# Creating mock data"
   ]
  },
  {
   "cell_type": "code",
   "execution_count": 24,
   "id": "b80ea337-5cea-4435-b126-408111791d69",
   "metadata": {},
   "outputs": [
    {
     "name": "stdout",
     "output_type": "stream",
     "text": [
      "Requirement already satisfied: Faker in /home/yogi/DE/default_env/lib/python3.10/site-packages (19.3.1)\n",
      "Requirement already satisfied: python-dateutil>=2.4 in /home/yogi/DE/default_env/lib/python3.10/site-packages (from Faker) (2.8.2)\n",
      "Requirement already satisfied: six>=1.5 in /home/yogi/DE/default_env/lib/python3.10/site-packages (from python-dateutil>=2.4->Faker) (1.16.0)\n",
      "Requirement already satisfied: pandas in /home/yogi/DE/default_env/lib/python3.10/site-packages (2.1.0)\n",
      "Requirement already satisfied: tzdata>=2022.1 in /home/yogi/DE/default_env/lib/python3.10/site-packages (from pandas) (2023.3)\n",
      "Requirement already satisfied: python-dateutil>=2.8.2 in /home/yogi/DE/default_env/lib/python3.10/site-packages (from pandas) (2.8.2)\n",
      "Requirement already satisfied: numpy>=1.22.4 in /home/yogi/DE/default_env/lib/python3.10/site-packages (from pandas) (1.25.2)\n",
      "Requirement already satisfied: pytz>=2020.1 in /home/yogi/DE/default_env/lib/python3.10/site-packages (from pandas) (2023.3)\n",
      "Requirement already satisfied: six>=1.5 in /home/yogi/DE/default_env/lib/python3.10/site-packages (from python-dateutil>=2.8.2->pandas) (1.16.0)\n"
     ]
    }
   ],
   "source": [
    "!pip install Faker\n",
    "!pip install pandas"
   ]
  },
  {
   "cell_type": "code",
   "execution_count": 1,
   "id": "b8de1e53-e2fe-43d4-98b1-8dc20bd66077",
   "metadata": {},
   "outputs": [],
   "source": [
    "from faker import Faker\n",
    "import pandas as pd\n",
    "import random\n",
    "\n",
    "fake = Faker()\n",
    "data = []\n",
    "\n",
    "for _ in range(100):\n",
    "    data.append([fake.name(), fake.email(), fake.date_of_birth(minimum_age=18), random.randint(10000,1000000)])\n",
    "\n",
    "df = pd.DataFrame(data, columns=[\"Name\", \"Email\", \"DateOfBirth\", \"AccountBalance\"])\n",
    "df.to_csv(\"mock_data.csv\", index=False)"
   ]
  },
  {
   "cell_type": "code",
   "execution_count": 10,
   "id": "32b9f1e5-7784-4b7c-b8fc-443b9f32939b",
   "metadata": {},
   "outputs": [],
   "source": [
    "# Getting started with snowflakes"
   ]
  },
  {
   "cell_type": "code",
   "execution_count": null,
   "id": "4e7ddc57-61fa-4583-9709-9934a86d936c",
   "metadata": {},
   "outputs": [],
   "source": [
    "!pip install --upgrade snowflake-connector-python\n",
    "!pip install \"snowflake-connector-python[pandas]\""
   ]
  },
  {
   "cell_type": "code",
   "execution_count": null,
   "id": "06fcf796-0757-4407-949f-34902d896658",
   "metadata": {},
   "outputs": [],
   "source": [
    "# If you're on a Linux distribution, you'll also need to install a few packages from your distribution's repository. Specifically, you'll need the equivalent of:\n",
    "\n",
    "# libm-devel\n",
    "# openssl-devel"
   ]
  },
  {
   "cell_type": "code",
   "execution_count": null,
   "id": "0dfd958c-46df-4d3e-8579-e3aecd0b3fb9",
   "metadata": {},
   "outputs": [],
   "source": [
    "# Snowflake login url: https://kduibgy-xn10235.snowflakecomputing.com/console/login"
   ]
  },
  {
   "cell_type": "code",
   "execution_count": 1,
   "id": "124ad10e-48c4-4f55-b618-1ad3457e9391",
   "metadata": {},
   "outputs": [],
   "source": [
    "import snowflake.connector\n",
    "import os"
   ]
  },
  {
   "cell_type": "code",
   "execution_count": 2,
   "id": "fa774e39-9719-48ea-8b21-d5ce12df61f5",
   "metadata": {},
   "outputs": [
    {
     "name": "stdout",
     "output_type": "stream",
     "text": [
      "7.30.0\n"
     ]
    }
   ],
   "source": [
    "# Gets the version\n",
    "ctx = snowflake.connector.connect(\n",
    "    user=os.getenv('SNOWFLAKE_USER'),\n",
    "    password=os.getenv('SNOWFLAKE_PASS'),\n",
    "    account=os.getenv('SNOWFLAKE_ACCOUNT'),\n",
    "    session_parameters={\n",
    "        'QUERY_TAG': 'TestingSnowflakePythonConnector',\n",
    "    }\n",
    "    )\n",
    "cs = ctx.cursor()\n",
    "try:\n",
    "    cs.execute(\"SELECT current_version()\")\n",
    "    one_row = cs.fetchone()\n",
    "    print(one_row[0])\n",
    "finally:\n",
    "    cs.close()\n",
    "ctx.close()"
   ]
  },
  {
   "cell_type": "code",
   "execution_count": 3,
   "id": "e6ca9bcd-bbc2-4932-ba2f-9bd6ab0af859",
   "metadata": {},
   "outputs": [],
   "source": [
    "conn = snowflake.connector.connect(\n",
    "    user=os.getenv('SNOWFLAKE_USER'),\n",
    "    password=os.getenv('SNOWFLAKE_PASS'),\n",
    "    account=os.getenv('SNOWFLAKE_ACCOUNT'),\n",
    "    session_parameters={\n",
    "        'QUERY_TAG': 'TestingSnowflakePythonConnector',\n",
    "    }\n",
    ")"
   ]
  },
  {
   "cell_type": "code",
   "execution_count": 4,
   "id": "46294d47-8d4d-45cc-a8bf-faaa1fd0a626",
   "metadata": {},
   "outputs": [
    {
     "data": {
      "text/plain": [
       "<snowflake.connector.cursor.SnowflakeCursor at 0x7f6bac09bd30>"
      ]
     },
     "execution_count": 4,
     "metadata": {},
     "output_type": "execute_result"
    }
   ],
   "source": [
    "conn.cursor().execute(\"CREATE WAREHOUSE IF NOT EXISTS test_warehouse\")\n",
    "conn.cursor().execute(\"USE WAREHOUSE test_warehouse\")\n",
    "conn.cursor().execute(\"CREATE DATABASE IF NOT EXISTS test_db\")\n",
    "conn.cursor().execute(\"USE DATABASE test_db\")\n",
    "conn.cursor().execute(\"CREATE SCHEMA IF NOT EXISTS test_schema\")\n",
    "conn.cursor().execute(\"USE SCHEMA test_schema\")"
   ]
  },
  {
   "cell_type": "code",
   "execution_count": 14,
   "id": "dd36548b-10d8-425d-abba-7b86dab71f57",
   "metadata": {},
   "outputs": [
    {
     "data": {
      "text/plain": [
       "<snowflake.connector.cursor.SnowflakeCursor at 0x7fc0216c8160>"
      ]
     },
     "execution_count": 14,
     "metadata": {},
     "output_type": "execute_result"
    }
   ],
   "source": [
    "# conn.cursor().execute(\n",
    "#     \"CREATE OR REPLACE TABLE \"\n",
    "#     \"test_table(\"\n",
    "#     \"  Name string,\"\n",
    "#     \"  Email string,\"\n",
    "#     \"  DateOfBirth date,\"\n",
    "#     \"  AccountBalance integer\"\n",
    "#     \")\")"
   ]
  },
  {
   "cell_type": "code",
   "execution_count": 16,
   "id": "b7e5be2d-75e0-47b7-a952-88e3bb0e2cf7",
   "metadata": {},
   "outputs": [
    {
     "data": {
      "text/plain": [
       "<snowflake.connector.cursor.SnowflakeCursor at 0x7fc0216c8580>"
      ]
     },
     "execution_count": 16,
     "metadata": {},
     "output_type": "execute_result"
    }
   ],
   "source": [
    "# # Uploading file\n",
    "# conn.cursor().execute(\"PUT file:///home/yogi/DE/great_expectations/mock_data.csv @%test_table\")\n",
    "# conn.cursor().execute(\"COPY INTO test_table file_format = (type = csv field_delimiter = ',' skip_header = 1)\")"
   ]
  },
  {
   "cell_type": "code",
   "execution_count": 5,
   "id": "81ca34da-8863-445a-8408-3083e7e06609",
   "metadata": {},
   "outputs": [],
   "source": [
    "result = conn.cursor().execute(\"SELECT * FROM test_table\")"
   ]
  },
  {
   "cell_type": "code",
   "execution_count": 12,
   "id": "edbbc54b-32f8-4beb-9948-93c00e5d079e",
   "metadata": {},
   "outputs": [],
   "source": [
    "result_batch_gen = result.fetch_pandas_batches()"
   ]
  },
  {
   "cell_type": "code",
   "execution_count": null,
   "id": "626f0338-3c49-411c-bc81-1e9c3cbe5e1c",
   "metadata": {},
   "outputs": [],
   "source": [
    "for batch_df in result_batch_gen:\n",
    "    print(batch_df)"
   ]
  },
  {
   "cell_type": "code",
   "execution_count": 15,
   "id": "854afb40-5fca-4803-a44f-9ba74eac399c",
   "metadata": {},
   "outputs": [
    {
     "data": {
      "text/html": [
       "<div>\n",
       "<style scoped>\n",
       "    .dataframe tbody tr th:only-of-type {\n",
       "        vertical-align: middle;\n",
       "    }\n",
       "\n",
       "    .dataframe tbody tr th {\n",
       "        vertical-align: top;\n",
       "    }\n",
       "\n",
       "    .dataframe thead th {\n",
       "        text-align: right;\n",
       "    }\n",
       "</style>\n",
       "<table border=\"1\" class=\"dataframe\">\n",
       "  <thead>\n",
       "    <tr style=\"text-align: right;\">\n",
       "      <th></th>\n",
       "      <th>NAME</th>\n",
       "      <th>EMAIL</th>\n",
       "      <th>DATEOFBIRTH</th>\n",
       "      <th>ACCOUNTBALANCE</th>\n",
       "    </tr>\n",
       "  </thead>\n",
       "  <tbody>\n",
       "    <tr>\n",
       "      <th>0</th>\n",
       "      <td>Tommy Washington</td>\n",
       "      <td>hjohnson@example.com</td>\n",
       "      <td>1932-09-15</td>\n",
       "      <td>144273</td>\n",
       "    </tr>\n",
       "    <tr>\n",
       "      <th>1</th>\n",
       "      <td>Kimberly Park</td>\n",
       "      <td>tjohnson@example.com</td>\n",
       "      <td>1908-07-28</td>\n",
       "      <td>740555</td>\n",
       "    </tr>\n",
       "    <tr>\n",
       "      <th>2</th>\n",
       "      <td>Madison Price</td>\n",
       "      <td>rosaleswalter@example.org</td>\n",
       "      <td>1920-08-27</td>\n",
       "      <td>636655</td>\n",
       "    </tr>\n",
       "    <tr>\n",
       "      <th>3</th>\n",
       "      <td>Justin Smith</td>\n",
       "      <td>elizabetherickson@example.com</td>\n",
       "      <td>1975-11-16</td>\n",
       "      <td>822670</td>\n",
       "    </tr>\n",
       "    <tr>\n",
       "      <th>4</th>\n",
       "      <td>Jason Mills</td>\n",
       "      <td>troy16@example.com</td>\n",
       "      <td>1938-03-29</td>\n",
       "      <td>417362</td>\n",
       "    </tr>\n",
       "    <tr>\n",
       "      <th>...</th>\n",
       "      <td>...</td>\n",
       "      <td>...</td>\n",
       "      <td>...</td>\n",
       "      <td>...</td>\n",
       "    </tr>\n",
       "    <tr>\n",
       "      <th>95</th>\n",
       "      <td>Donna Coffey</td>\n",
       "      <td>iguerra@example.net</td>\n",
       "      <td>1959-03-21</td>\n",
       "      <td>291871</td>\n",
       "    </tr>\n",
       "    <tr>\n",
       "      <th>96</th>\n",
       "      <td>Emily Mitchell</td>\n",
       "      <td>mkim@example.org</td>\n",
       "      <td>1939-10-19</td>\n",
       "      <td>306133</td>\n",
       "    </tr>\n",
       "    <tr>\n",
       "      <th>97</th>\n",
       "      <td>Aaron Church</td>\n",
       "      <td>barnettmelissa@example.com</td>\n",
       "      <td>1966-10-13</td>\n",
       "      <td>506054</td>\n",
       "    </tr>\n",
       "    <tr>\n",
       "      <th>98</th>\n",
       "      <td>Gilbert Benson</td>\n",
       "      <td>sandovaljohn@example.com</td>\n",
       "      <td>1958-09-28</td>\n",
       "      <td>515419</td>\n",
       "    </tr>\n",
       "    <tr>\n",
       "      <th>99</th>\n",
       "      <td>Gary Herrera</td>\n",
       "      <td>carrie57@example.org</td>\n",
       "      <td>1964-08-02</td>\n",
       "      <td>104757</td>\n",
       "    </tr>\n",
       "  </tbody>\n",
       "</table>\n",
       "<p>100 rows × 4 columns</p>\n",
       "</div>"
      ],
      "text/plain": [
       "                NAME                          EMAIL DATEOFBIRTH  \\\n",
       "0   Tommy Washington           hjohnson@example.com  1932-09-15   \n",
       "1      Kimberly Park           tjohnson@example.com  1908-07-28   \n",
       "2      Madison Price      rosaleswalter@example.org  1920-08-27   \n",
       "3       Justin Smith  elizabetherickson@example.com  1975-11-16   \n",
       "4        Jason Mills             troy16@example.com  1938-03-29   \n",
       "..               ...                            ...         ...   \n",
       "95      Donna Coffey            iguerra@example.net  1959-03-21   \n",
       "96    Emily Mitchell               mkim@example.org  1939-10-19   \n",
       "97      Aaron Church     barnettmelissa@example.com  1966-10-13   \n",
       "98    Gilbert Benson       sandovaljohn@example.com  1958-09-28   \n",
       "99      Gary Herrera           carrie57@example.org  1964-08-02   \n",
       "\n",
       "    ACCOUNTBALANCE  \n",
       "0           144273  \n",
       "1           740555  \n",
       "2           636655  \n",
       "3           822670  \n",
       "4           417362  \n",
       "..             ...  \n",
       "95          291871  \n",
       "96          306133  \n",
       "97          506054  \n",
       "98          515419  \n",
       "99          104757  \n",
       "\n",
       "[100 rows x 4 columns]"
      ]
     },
     "execution_count": 15,
     "metadata": {},
     "output_type": "execute_result"
    }
   ],
   "source": [
    "batch_df"
   ]
  },
  {
   "cell_type": "code",
   "execution_count": 16,
   "id": "15e7ca62-faac-4668-abde-8e73b174c40a",
   "metadata": {},
   "outputs": [],
   "source": [
    "# Great Expectations"
   ]
  },
  {
   "cell_type": "code",
   "execution_count": 84,
   "id": "f9522ae1-f809-42b2-b886-882e55c82697",
   "metadata": {
    "scrolled": true
   },
   "outputs": [
    {
     "name": "stdout",
     "output_type": "stream",
     "text": [
      "Requirement already satisfied: snowflake-sqlalchemy in /home/yogi/DE/default_env/lib/python3.10/site-packages (1.5.0)\n",
      "Requirement already satisfied: snowflake-connector-python<4.0.0 in /home/yogi/DE/default_env/lib/python3.10/site-packages (from snowflake-sqlalchemy) (3.1.1)\n",
      "Requirement already satisfied: sqlalchemy<2.0.0,>=1.4.0 in /home/yogi/DE/default_env/lib/python3.10/site-packages (from snowflake-sqlalchemy) (1.4.49)\n",
      "Requirement already satisfied: pycryptodomex!=3.5.0,<4.0.0,>=3.2 in /home/yogi/DE/default_env/lib/python3.10/site-packages (from snowflake-connector-python<4.0.0->snowflake-sqlalchemy) (3.18.0)\n",
      "Requirement already satisfied: packaging in /home/yogi/DE/default_env/lib/python3.10/site-packages (from snowflake-connector-python<4.0.0->snowflake-sqlalchemy) (23.1)\n",
      "Requirement already satisfied: cffi<2.0.0,>=1.9 in /home/yogi/DE/default_env/lib/python3.10/site-packages (from snowflake-connector-python<4.0.0->snowflake-sqlalchemy) (1.15.1)\n",
      "Requirement already satisfied: certifi>=2017.4.17 in /home/yogi/DE/default_env/lib/python3.10/site-packages (from snowflake-connector-python<4.0.0->snowflake-sqlalchemy) (2023.7.22)\n",
      "Requirement already satisfied: sortedcontainers>=2.4.0 in /home/yogi/DE/default_env/lib/python3.10/site-packages (from snowflake-connector-python<4.0.0->snowflake-sqlalchemy) (2.4.0)\n",
      "Requirement already satisfied: platformdirs<3.9.0,>=2.6.0 in /home/yogi/DE/default_env/lib/python3.10/site-packages (from snowflake-connector-python<4.0.0->snowflake-sqlalchemy) (3.8.1)\n",
      "Requirement already satisfied: filelock<4,>=3.5 in /home/yogi/DE/default_env/lib/python3.10/site-packages (from snowflake-connector-python<4.0.0->snowflake-sqlalchemy) (3.12.3)\n",
      "Requirement already satisfied: pyOpenSSL<24.0.0,>=16.2.0 in /home/yogi/DE/default_env/lib/python3.10/site-packages (from snowflake-connector-python<4.0.0->snowflake-sqlalchemy) (23.2.0)\n",
      "Requirement already satisfied: typing-extensions<5,>=4.3 in /home/yogi/DE/default_env/lib/python3.10/site-packages (from snowflake-connector-python<4.0.0->snowflake-sqlalchemy) (4.7.1)\n",
      "Requirement already satisfied: charset-normalizer<4,>=2 in /home/yogi/DE/default_env/lib/python3.10/site-packages (from snowflake-connector-python<4.0.0->snowflake-sqlalchemy) (3.2.0)\n",
      "Requirement already satisfied: oscrypto<2.0.0 in /home/yogi/DE/default_env/lib/python3.10/site-packages (from snowflake-connector-python<4.0.0->snowflake-sqlalchemy) (1.3.0)\n",
      "Requirement already satisfied: urllib3<1.27,>=1.21.1 in /home/yogi/DE/default_env/lib/python3.10/site-packages (from snowflake-connector-python<4.0.0->snowflake-sqlalchemy) (1.26.16)\n",
      "Requirement already satisfied: asn1crypto<2.0.0,>0.24.0 in /home/yogi/DE/default_env/lib/python3.10/site-packages (from snowflake-connector-python<4.0.0->snowflake-sqlalchemy) (1.5.1)\n",
      "Requirement already satisfied: cryptography<42.0.0,>=3.1.0 in /home/yogi/DE/default_env/lib/python3.10/site-packages (from snowflake-connector-python<4.0.0->snowflake-sqlalchemy) (41.0.3)\n",
      "Requirement already satisfied: idna<4,>=2.5 in /home/yogi/DE/default_env/lib/python3.10/site-packages (from snowflake-connector-python<4.0.0->snowflake-sqlalchemy) (3.4)\n",
      "Requirement already satisfied: pytz in /home/yogi/DE/default_env/lib/python3.10/site-packages (from snowflake-connector-python<4.0.0->snowflake-sqlalchemy) (2023.3)\n",
      "Requirement already satisfied: tomlkit in /home/yogi/DE/default_env/lib/python3.10/site-packages (from snowflake-connector-python<4.0.0->snowflake-sqlalchemy) (0.12.1)\n",
      "Requirement already satisfied: pyjwt<3.0.0 in /home/yogi/DE/default_env/lib/python3.10/site-packages (from snowflake-connector-python<4.0.0->snowflake-sqlalchemy) (2.8.0)\n",
      "Requirement already satisfied: requests<3.0.0 in /home/yogi/DE/default_env/lib/python3.10/site-packages (from snowflake-connector-python<4.0.0->snowflake-sqlalchemy) (2.31.0)\n",
      "Requirement already satisfied: greenlet!=0.4.17 in /home/yogi/DE/default_env/lib/python3.10/site-packages (from sqlalchemy<2.0.0,>=1.4.0->snowflake-sqlalchemy) (2.0.2)\n",
      "Requirement already satisfied: pycparser in /home/yogi/DE/default_env/lib/python3.10/site-packages (from cffi<2.0.0,>=1.9->snowflake-connector-python<4.0.0->snowflake-sqlalchemy) (2.21)\n",
      "Requirement already satisfied: great_expectations[sqlalchemy] in /home/yogi/DE/default_env/lib/python3.10/site-packages (0.17.14)\n",
      "\u001b[33mWARNING: great-expectations 0.17.14 does not provide the extra 'sqlalchemy'\u001b[0m\u001b[33m\n",
      "\u001b[0mRequirement already satisfied: Ipython>=7.16.3 in /home/yogi/DE/default_env/lib/python3.10/site-packages (from great_expectations[sqlalchemy]) (8.15.0)\n",
      "Requirement already satisfied: jsonschema>=2.5.1 in /home/yogi/DE/default_env/lib/python3.10/site-packages (from great_expectations[sqlalchemy]) (4.19.0)\n",
      "Requirement already satisfied: cryptography>=3.2 in /home/yogi/DE/default_env/lib/python3.10/site-packages (from great_expectations[sqlalchemy]) (41.0.3)\n",
      "Requirement already satisfied: colorama>=0.4.3 in /home/yogi/DE/default_env/lib/python3.10/site-packages (from great_expectations[sqlalchemy]) (0.4.6)\n",
      "Requirement already satisfied: python-dateutil>=2.8.1 in /home/yogi/DE/default_env/lib/python3.10/site-packages (from great_expectations[sqlalchemy]) (2.8.2)\n",
      "Requirement already satisfied: notebook>=6.4.10 in /home/yogi/DE/default_env/lib/python3.10/site-packages (from great_expectations[sqlalchemy]) (7.0.3)\n",
      "Requirement already satisfied: pydantic<2.0,>=1.9.2 in /home/yogi/DE/default_env/lib/python3.10/site-packages (from great_expectations[sqlalchemy]) (1.10.12)\n",
      "Requirement already satisfied: pandas>=1.3.0 in /home/yogi/DE/default_env/lib/python3.10/site-packages (from great_expectations[sqlalchemy]) (2.0.3)\n",
      "Requirement already satisfied: jinja2>=2.10 in /home/yogi/DE/default_env/lib/python3.10/site-packages (from great_expectations[sqlalchemy]) (3.1.2)\n",
      "Requirement already satisfied: marshmallow<4.0.0,>=3.7.1 in /home/yogi/DE/default_env/lib/python3.10/site-packages (from great_expectations[sqlalchemy]) (3.20.1)\n",
      "Requirement already satisfied: altair<5.0.0,>=4.2.1 in /home/yogi/DE/default_env/lib/python3.10/site-packages (from great_expectations[sqlalchemy]) (4.2.2)\n",
      "Requirement already satisfied: makefun<2,>=1.7.0 in /home/yogi/DE/default_env/lib/python3.10/site-packages (from great_expectations[sqlalchemy]) (1.15.1)\n",
      "Requirement already satisfied: typing-extensions>=3.10.0.0 in /home/yogi/DE/default_env/lib/python3.10/site-packages (from great_expectations[sqlalchemy]) (4.7.1)\n",
      "Requirement already satisfied: Click!=8.1.4,>=7.1.2 in /home/yogi/DE/default_env/lib/python3.10/site-packages (from great_expectations[sqlalchemy]) (8.1.7)\n",
      "Requirement already satisfied: ipywidgets>=7.5.1 in /home/yogi/DE/default_env/lib/python3.10/site-packages (from great_expectations[sqlalchemy]) (8.1.0)\n",
      "Requirement already satisfied: packaging in /home/yogi/DE/default_env/lib/python3.10/site-packages (from great_expectations[sqlalchemy]) (23.1)\n",
      "Requirement already satisfied: ruamel.yaml<0.17.18,>=0.16 in /home/yogi/DE/default_env/lib/python3.10/site-packages (from great_expectations[sqlalchemy]) (0.17.17)\n",
      "Requirement already satisfied: jsonpatch>=1.22 in /home/yogi/DE/default_env/lib/python3.10/site-packages (from great_expectations[sqlalchemy]) (1.33)\n",
      "Requirement already satisfied: tzlocal>=1.2 in /home/yogi/DE/default_env/lib/python3.10/site-packages (from great_expectations[sqlalchemy]) (5.0.1)\n",
      "Requirement already satisfied: pytz>=2021.3 in /home/yogi/DE/default_env/lib/python3.10/site-packages (from great_expectations[sqlalchemy]) (2023.3)\n",
      "Requirement already satisfied: urllib3>=1.26 in /home/yogi/DE/default_env/lib/python3.10/site-packages (from great_expectations[sqlalchemy]) (1.26.16)\n",
      "Requirement already satisfied: numpy>=1.22.4 in /home/yogi/DE/default_env/lib/python3.10/site-packages (from great_expectations[sqlalchemy]) (1.25.2)\n",
      "Requirement already satisfied: nbformat>=5.0 in /home/yogi/DE/default_env/lib/python3.10/site-packages (from great_expectations[sqlalchemy]) (5.9.2)\n",
      "Requirement already satisfied: mistune>=0.8.4 in /home/yogi/DE/default_env/lib/python3.10/site-packages (from great_expectations[sqlalchemy]) (3.0.1)\n",
      "Requirement already satisfied: pyparsing>=2.4 in /home/yogi/DE/default_env/lib/python3.10/site-packages (from great_expectations[sqlalchemy]) (3.1.1)\n",
      "Requirement already satisfied: requests>=2.20 in /home/yogi/DE/default_env/lib/python3.10/site-packages (from great_expectations[sqlalchemy]) (2.31.0)\n",
      "Requirement already satisfied: scipy>=1.6.0 in /home/yogi/DE/default_env/lib/python3.10/site-packages (from great_expectations[sqlalchemy]) (1.11.2)\n",
      "Requirement already satisfied: tqdm>=4.59.0 in /home/yogi/DE/default_env/lib/python3.10/site-packages (from great_expectations[sqlalchemy]) (4.66.1)\n",
      "Requirement already satisfied: entrypoints in /home/yogi/DE/default_env/lib/python3.10/site-packages (from altair<5.0.0,>=4.2.1->great_expectations[sqlalchemy]) (0.4)\n",
      "Requirement already satisfied: toolz in /home/yogi/DE/default_env/lib/python3.10/site-packages (from altair<5.0.0,>=4.2.1->great_expectations[sqlalchemy]) (0.12.0)\n",
      "Requirement already satisfied: cffi>=1.12 in /home/yogi/DE/default_env/lib/python3.10/site-packages (from cryptography>=3.2->great_expectations[sqlalchemy]) (1.15.1)\n",
      "Requirement already satisfied: pickleshare in /home/yogi/DE/default_env/lib/python3.10/site-packages (from Ipython>=7.16.3->great_expectations[sqlalchemy]) (0.7.5)\n",
      "Requirement already satisfied: traitlets>=5 in /home/yogi/DE/default_env/lib/python3.10/site-packages (from Ipython>=7.16.3->great_expectations[sqlalchemy]) (5.9.0)\n",
      "Requirement already satisfied: pexpect>4.3 in /home/yogi/DE/default_env/lib/python3.10/site-packages (from Ipython>=7.16.3->great_expectations[sqlalchemy]) (4.8.0)\n",
      "Requirement already satisfied: exceptiongroup in /home/yogi/DE/default_env/lib/python3.10/site-packages (from Ipython>=7.16.3->great_expectations[sqlalchemy]) (1.1.3)\n",
      "Requirement already satisfied: prompt-toolkit!=3.0.37,<3.1.0,>=3.0.30 in /home/yogi/DE/default_env/lib/python3.10/site-packages (from Ipython>=7.16.3->great_expectations[sqlalchemy]) (3.0.39)\n",
      "Requirement already satisfied: matplotlib-inline in /home/yogi/DE/default_env/lib/python3.10/site-packages (from Ipython>=7.16.3->great_expectations[sqlalchemy]) (0.1.6)\n",
      "Requirement already satisfied: pygments>=2.4.0 in /home/yogi/DE/default_env/lib/python3.10/site-packages (from Ipython>=7.16.3->great_expectations[sqlalchemy]) (2.16.1)\n",
      "Requirement already satisfied: decorator in /home/yogi/DE/default_env/lib/python3.10/site-packages (from Ipython>=7.16.3->great_expectations[sqlalchemy]) (5.1.1)\n",
      "Requirement already satisfied: jedi>=0.16 in /home/yogi/DE/default_env/lib/python3.10/site-packages (from Ipython>=7.16.3->great_expectations[sqlalchemy]) (0.19.0)\n",
      "Requirement already satisfied: backcall in /home/yogi/DE/default_env/lib/python3.10/site-packages (from Ipython>=7.16.3->great_expectations[sqlalchemy]) (0.2.0)\n",
      "Requirement already satisfied: stack-data in /home/yogi/DE/default_env/lib/python3.10/site-packages (from Ipython>=7.16.3->great_expectations[sqlalchemy]) (0.6.2)\n",
      "Requirement already satisfied: comm>=0.1.3 in /home/yogi/DE/default_env/lib/python3.10/site-packages (from ipywidgets>=7.5.1->great_expectations[sqlalchemy]) (0.1.4)\n",
      "Requirement already satisfied: widgetsnbextension~=4.0.7 in /home/yogi/DE/default_env/lib/python3.10/site-packages (from ipywidgets>=7.5.1->great_expectations[sqlalchemy]) (4.0.8)\n",
      "Requirement already satisfied: jupyterlab-widgets~=3.0.7 in /home/yogi/DE/default_env/lib/python3.10/site-packages (from ipywidgets>=7.5.1->great_expectations[sqlalchemy]) (3.0.8)\n",
      "Requirement already satisfied: MarkupSafe>=2.0 in /home/yogi/DE/default_env/lib/python3.10/site-packages (from jinja2>=2.10->great_expectations[sqlalchemy]) (2.1.3)\n",
      "Requirement already satisfied: jsonpointer>=1.9 in /home/yogi/DE/default_env/lib/python3.10/site-packages (from jsonpatch>=1.22->great_expectations[sqlalchemy]) (2.4)\n",
      "Requirement already satisfied: referencing>=0.28.4 in /home/yogi/DE/default_env/lib/python3.10/site-packages (from jsonschema>=2.5.1->great_expectations[sqlalchemy]) (0.30.2)\n",
      "Requirement already satisfied: rpds-py>=0.7.1 in /home/yogi/DE/default_env/lib/python3.10/site-packages (from jsonschema>=2.5.1->great_expectations[sqlalchemy]) (0.10.0)\n",
      "Requirement already satisfied: attrs>=22.2.0 in /home/yogi/DE/default_env/lib/python3.10/site-packages (from jsonschema>=2.5.1->great_expectations[sqlalchemy]) (23.1.0)\n",
      "Requirement already satisfied: jsonschema-specifications>=2023.03.6 in /home/yogi/DE/default_env/lib/python3.10/site-packages (from jsonschema>=2.5.1->great_expectations[sqlalchemy]) (2023.7.1)\n",
      "Requirement already satisfied: fastjsonschema in /home/yogi/DE/default_env/lib/python3.10/site-packages (from nbformat>=5.0->great_expectations[sqlalchemy]) (2.18.0)\n",
      "Requirement already satisfied: jupyter-core in /home/yogi/DE/default_env/lib/python3.10/site-packages (from nbformat>=5.0->great_expectations[sqlalchemy]) (5.3.1)\n",
      "Requirement already satisfied: tornado>=6.2.0 in /home/yogi/DE/default_env/lib/python3.10/site-packages (from notebook>=6.4.10->great_expectations[sqlalchemy]) (6.3.3)\n",
      "Requirement already satisfied: jupyter-server<3,>=2.4.0 in /home/yogi/DE/default_env/lib/python3.10/site-packages (from notebook>=6.4.10->great_expectations[sqlalchemy]) (2.7.3)\n",
      "Requirement already satisfied: notebook-shim<0.3,>=0.2 in /home/yogi/DE/default_env/lib/python3.10/site-packages (from notebook>=6.4.10->great_expectations[sqlalchemy]) (0.2.3)\n",
      "Requirement already satisfied: jupyterlab<5,>=4.0.2 in /home/yogi/DE/default_env/lib/python3.10/site-packages (from notebook>=6.4.10->great_expectations[sqlalchemy]) (4.0.5)\n",
      "Requirement already satisfied: jupyterlab-server<3,>=2.22.1 in /home/yogi/DE/default_env/lib/python3.10/site-packages (from notebook>=6.4.10->great_expectations[sqlalchemy]) (2.24.0)\n",
      "Requirement already satisfied: tzdata>=2022.1 in /home/yogi/DE/default_env/lib/python3.10/site-packages (from pandas>=1.3.0->great_expectations[sqlalchemy]) (2023.3)\n",
      "Requirement already satisfied: six>=1.5 in /home/yogi/DE/default_env/lib/python3.10/site-packages (from python-dateutil>=2.8.1->great_expectations[sqlalchemy]) (1.16.0)\n",
      "Requirement already satisfied: idna<4,>=2.5 in /home/yogi/DE/default_env/lib/python3.10/site-packages (from requests>=2.20->great_expectations[sqlalchemy]) (3.4)\n",
      "Requirement already satisfied: charset-normalizer<4,>=2 in /home/yogi/DE/default_env/lib/python3.10/site-packages (from requests>=2.20->great_expectations[sqlalchemy]) (3.2.0)\n",
      "Requirement already satisfied: certifi>=2017.4.17 in /home/yogi/DE/default_env/lib/python3.10/site-packages (from requests>=2.20->great_expectations[sqlalchemy]) (2023.7.22)\n",
      "Requirement already satisfied: pycparser in /home/yogi/DE/default_env/lib/python3.10/site-packages (from cffi>=1.12->cryptography>=3.2->great_expectations[sqlalchemy]) (2.21)\n",
      "Requirement already satisfied: parso<0.9.0,>=0.8.3 in /home/yogi/DE/default_env/lib/python3.10/site-packages (from jedi>=0.16->Ipython>=7.16.3->great_expectations[sqlalchemy]) (0.8.3)\n",
      "Requirement already satisfied: terminado>=0.8.3 in /home/yogi/DE/default_env/lib/python3.10/site-packages (from jupyter-server<3,>=2.4.0->notebook>=6.4.10->great_expectations[sqlalchemy]) (0.17.1)\n",
      "Requirement already satisfied: argon2-cffi in /home/yogi/DE/default_env/lib/python3.10/site-packages (from jupyter-server<3,>=2.4.0->notebook>=6.4.10->great_expectations[sqlalchemy]) (23.1.0)\n",
      "Requirement already satisfied: prometheus-client in /home/yogi/DE/default_env/lib/python3.10/site-packages (from jupyter-server<3,>=2.4.0->notebook>=6.4.10->great_expectations[sqlalchemy]) (0.17.1)\n",
      "Requirement already satisfied: pyzmq>=24 in /home/yogi/DE/default_env/lib/python3.10/site-packages (from jupyter-server<3,>=2.4.0->notebook>=6.4.10->great_expectations[sqlalchemy]) (25.1.1)\n",
      "Requirement already satisfied: overrides in /home/yogi/DE/default_env/lib/python3.10/site-packages (from jupyter-server<3,>=2.4.0->notebook>=6.4.10->great_expectations[sqlalchemy]) (7.4.0)\n",
      "Requirement already satisfied: nbconvert>=6.4.4 in /home/yogi/DE/default_env/lib/python3.10/site-packages (from jupyter-server<3,>=2.4.0->notebook>=6.4.10->great_expectations[sqlalchemy]) (7.8.0)\n",
      "Requirement already satisfied: anyio>=3.1.0 in /home/yogi/DE/default_env/lib/python3.10/site-packages (from jupyter-server<3,>=2.4.0->notebook>=6.4.10->great_expectations[sqlalchemy]) (4.0.0)\n",
      "Requirement already satisfied: send2trash>=1.8.2 in /home/yogi/DE/default_env/lib/python3.10/site-packages (from jupyter-server<3,>=2.4.0->notebook>=6.4.10->great_expectations[sqlalchemy]) (1.8.2)\n",
      "Requirement already satisfied: jupyter-client>=7.4.4 in /home/yogi/DE/default_env/lib/python3.10/site-packages (from jupyter-server<3,>=2.4.0->notebook>=6.4.10->great_expectations[sqlalchemy]) (8.3.1)\n",
      "Requirement already satisfied: jupyter-events>=0.6.0 in /home/yogi/DE/default_env/lib/python3.10/site-packages (from jupyter-server<3,>=2.4.0->notebook>=6.4.10->great_expectations[sqlalchemy]) (0.7.0)\n",
      "Requirement already satisfied: websocket-client in /home/yogi/DE/default_env/lib/python3.10/site-packages (from jupyter-server<3,>=2.4.0->notebook>=6.4.10->great_expectations[sqlalchemy]) (1.6.2)\n",
      "Requirement already satisfied: jupyter-server-terminals in /home/yogi/DE/default_env/lib/python3.10/site-packages (from jupyter-server<3,>=2.4.0->notebook>=6.4.10->great_expectations[sqlalchemy]) (0.4.4)\n",
      "Requirement already satisfied: platformdirs>=2.5 in /home/yogi/DE/default_env/lib/python3.10/site-packages (from jupyter-core->nbformat>=5.0->great_expectations[sqlalchemy]) (3.8.1)\n",
      "Requirement already satisfied: jupyter-lsp>=2.0.0 in /home/yogi/DE/default_env/lib/python3.10/site-packages (from jupyterlab<5,>=4.0.2->notebook>=6.4.10->great_expectations[sqlalchemy]) (2.2.0)\n",
      "Requirement already satisfied: ipykernel in /home/yogi/DE/default_env/lib/python3.10/site-packages (from jupyterlab<5,>=4.0.2->notebook>=6.4.10->great_expectations[sqlalchemy]) (6.25.1)\n",
      "Requirement already satisfied: tomli in /home/yogi/DE/default_env/lib/python3.10/site-packages (from jupyterlab<5,>=4.0.2->notebook>=6.4.10->great_expectations[sqlalchemy]) (2.0.1)\n",
      "Requirement already satisfied: async-lru>=1.0.0 in /home/yogi/DE/default_env/lib/python3.10/site-packages (from jupyterlab<5,>=4.0.2->notebook>=6.4.10->great_expectations[sqlalchemy]) (2.0.4)\n",
      "Requirement already satisfied: babel>=2.10 in /home/yogi/DE/default_env/lib/python3.10/site-packages (from jupyterlab-server<3,>=2.22.1->notebook>=6.4.10->great_expectations[sqlalchemy]) (2.12.1)\n",
      "Requirement already satisfied: json5>=0.9.0 in /home/yogi/DE/default_env/lib/python3.10/site-packages (from jupyterlab-server<3,>=2.22.1->notebook>=6.4.10->great_expectations[sqlalchemy]) (0.9.14)\n",
      "Requirement already satisfied: ptyprocess>=0.5 in /home/yogi/DE/default_env/lib/python3.10/site-packages (from pexpect>4.3->Ipython>=7.16.3->great_expectations[sqlalchemy]) (0.7.0)\n",
      "Requirement already satisfied: wcwidth in /home/yogi/DE/default_env/lib/python3.10/site-packages (from prompt-toolkit!=3.0.37,<3.1.0,>=3.0.30->Ipython>=7.16.3->great_expectations[sqlalchemy]) (0.2.6)\n",
      "Requirement already satisfied: asttokens>=2.1.0 in /home/yogi/DE/default_env/lib/python3.10/site-packages (from stack-data->Ipython>=7.16.3->great_expectations[sqlalchemy]) (2.2.1)\n",
      "Requirement already satisfied: pure-eval in /home/yogi/DE/default_env/lib/python3.10/site-packages (from stack-data->Ipython>=7.16.3->great_expectations[sqlalchemy]) (0.2.2)\n",
      "Requirement already satisfied: executing>=1.2.0 in /home/yogi/DE/default_env/lib/python3.10/site-packages (from stack-data->Ipython>=7.16.3->great_expectations[sqlalchemy]) (1.2.0)\n",
      "Requirement already satisfied: sniffio>=1.1 in /home/yogi/DE/default_env/lib/python3.10/site-packages (from anyio>=3.1.0->jupyter-server<3,>=2.4.0->notebook>=6.4.10->great_expectations[sqlalchemy]) (1.3.0)\n",
      "Requirement already satisfied: rfc3986-validator>=0.1.1 in /home/yogi/DE/default_env/lib/python3.10/site-packages (from jupyter-events>=0.6.0->jupyter-server<3,>=2.4.0->notebook>=6.4.10->great_expectations[sqlalchemy]) (0.1.1)\n",
      "Requirement already satisfied: rfc3339-validator in /home/yogi/DE/default_env/lib/python3.10/site-packages (from jupyter-events>=0.6.0->jupyter-server<3,>=2.4.0->notebook>=6.4.10->great_expectations[sqlalchemy]) (0.1.4)\n",
      "Requirement already satisfied: python-json-logger>=2.0.4 in /home/yogi/DE/default_env/lib/python3.10/site-packages (from jupyter-events>=0.6.0->jupyter-server<3,>=2.4.0->notebook>=6.4.10->great_expectations[sqlalchemy]) (2.0.7)\n",
      "Requirement already satisfied: pyyaml>=5.3 in /home/yogi/DE/default_env/lib/python3.10/site-packages (from jupyter-events>=0.6.0->jupyter-server<3,>=2.4.0->notebook>=6.4.10->great_expectations[sqlalchemy]) (6.0.1)\n",
      "Requirement already satisfied: jupyterlab-pygments in /home/yogi/DE/default_env/lib/python3.10/site-packages (from nbconvert>=6.4.4->jupyter-server<3,>=2.4.0->notebook>=6.4.10->great_expectations[sqlalchemy]) (0.2.2)\n",
      "Requirement already satisfied: beautifulsoup4 in /home/yogi/DE/default_env/lib/python3.10/site-packages (from nbconvert>=6.4.4->jupyter-server<3,>=2.4.0->notebook>=6.4.10->great_expectations[sqlalchemy]) (4.12.2)\n",
      "Requirement already satisfied: tinycss2 in /home/yogi/DE/default_env/lib/python3.10/site-packages (from nbconvert>=6.4.4->jupyter-server<3,>=2.4.0->notebook>=6.4.10->great_expectations[sqlalchemy]) (1.2.1)\n",
      "Requirement already satisfied: bleach!=5.0.0 in /home/yogi/DE/default_env/lib/python3.10/site-packages (from nbconvert>=6.4.4->jupyter-server<3,>=2.4.0->notebook>=6.4.10->great_expectations[sqlalchemy]) (6.0.0)\n",
      "Requirement already satisfied: defusedxml in /home/yogi/DE/default_env/lib/python3.10/site-packages (from nbconvert>=6.4.4->jupyter-server<3,>=2.4.0->notebook>=6.4.10->great_expectations[sqlalchemy]) (0.7.1)\n",
      "Requirement already satisfied: nbclient>=0.5.0 in /home/yogi/DE/default_env/lib/python3.10/site-packages (from nbconvert>=6.4.4->jupyter-server<3,>=2.4.0->notebook>=6.4.10->great_expectations[sqlalchemy]) (0.8.0)\n",
      "Requirement already satisfied: pandocfilters>=1.4.1 in /home/yogi/DE/default_env/lib/python3.10/site-packages (from nbconvert>=6.4.4->jupyter-server<3,>=2.4.0->notebook>=6.4.10->great_expectations[sqlalchemy]) (1.5.0)\n",
      "Requirement already satisfied: argon2-cffi-bindings in /home/yogi/DE/default_env/lib/python3.10/site-packages (from argon2-cffi->jupyter-server<3,>=2.4.0->notebook>=6.4.10->great_expectations[sqlalchemy]) (21.2.0)\n",
      "Requirement already satisfied: nest-asyncio in /home/yogi/DE/default_env/lib/python3.10/site-packages (from ipykernel->jupyterlab<5,>=4.0.2->notebook>=6.4.10->great_expectations[sqlalchemy]) (1.5.7)\n",
      "Requirement already satisfied: debugpy>=1.6.5 in /home/yogi/DE/default_env/lib/python3.10/site-packages (from ipykernel->jupyterlab<5,>=4.0.2->notebook>=6.4.10->great_expectations[sqlalchemy]) (1.6.7.post1)\n",
      "Requirement already satisfied: psutil in /home/yogi/DE/default_env/lib/python3.10/site-packages (from ipykernel->jupyterlab<5,>=4.0.2->notebook>=6.4.10->great_expectations[sqlalchemy]) (5.9.5)\n",
      "Requirement already satisfied: webencodings in /home/yogi/DE/default_env/lib/python3.10/site-packages (from bleach!=5.0.0->nbconvert>=6.4.4->jupyter-server<3,>=2.4.0->notebook>=6.4.10->great_expectations[sqlalchemy]) (0.5.1)\n",
      "Requirement already satisfied: fqdn in /home/yogi/DE/default_env/lib/python3.10/site-packages (from jsonschema>=2.5.1->great_expectations[sqlalchemy]) (1.5.1)\n",
      "Requirement already satisfied: isoduration in /home/yogi/DE/default_env/lib/python3.10/site-packages (from jsonschema>=2.5.1->great_expectations[sqlalchemy]) (20.11.0)\n",
      "Requirement already satisfied: webcolors>=1.11 in /home/yogi/DE/default_env/lib/python3.10/site-packages (from jsonschema>=2.5.1->great_expectations[sqlalchemy]) (1.13)\n",
      "Requirement already satisfied: uri-template in /home/yogi/DE/default_env/lib/python3.10/site-packages (from jsonschema>=2.5.1->great_expectations[sqlalchemy]) (1.3.0)\n",
      "Requirement already satisfied: soupsieve>1.2 in /home/yogi/DE/default_env/lib/python3.10/site-packages (from beautifulsoup4->nbconvert>=6.4.4->jupyter-server<3,>=2.4.0->notebook>=6.4.10->great_expectations[sqlalchemy]) (2.4.1)\n",
      "Requirement already satisfied: arrow>=0.15.0 in /home/yogi/DE/default_env/lib/python3.10/site-packages (from isoduration->jsonschema>=2.5.1->great_expectations[sqlalchemy]) (1.2.3)\n",
      "Requirement already satisfied: SQLAlchemy==1.4.49 in /home/yogi/DE/default_env/lib/python3.10/site-packages (1.4.49)\n",
      "Requirement already satisfied: greenlet!=0.4.17 in /home/yogi/DE/default_env/lib/python3.10/site-packages (from SQLAlchemy==1.4.49) (2.0.2)\n"
     ]
    }
   ],
   "source": [
    "# !pip install great_expectations\n",
    "# !pip install sqlalchemy\n",
    "!pip install snowflake-sqlalchemy\n",
    "!pip install 'great_expectations[sqlalchemy]'\n",
    "!pip install SQLAlchemy==1.4.49"
   ]
  },
  {
   "cell_type": "code",
   "execution_count": 69,
   "id": "61a4dbfb-27b2-48eb-88d0-8a77ace526d2",
   "metadata": {},
   "outputs": [
    {
     "name": "stdout",
     "output_type": "stream",
     "text": [
      "Found existing installation: great-expectations 0.17.14\n",
      "Uninstalling great-expectations-0.17.14:\n",
      "  Successfully uninstalled great-expectations-0.17.14\n"
     ]
    }
   ],
   "source": [
    "# !pip uninstall -y great_expectations[sqlalchemy]"
   ]
  },
  {
   "cell_type": "code",
   "execution_count": 3,
   "id": "06a3a337-6a77-4922-8fd6-2034606fbef6",
   "metadata": {},
   "outputs": [],
   "source": [
    "import great_expectations as ge\n",
    "from urllib.parse import quote\n",
    "import os"
   ]
  },
  {
   "cell_type": "code",
   "execution_count": 22,
   "id": "1cebbce6-374c-4722-bac1-00e2df8d8f48",
   "metadata": {},
   "outputs": [
    {
     "name": "stdout",
     "output_type": "stream",
     "text": [
      "\u001b[36m\n",
      "  ___              _     ___                  _        _   _\n",
      " / __|_ _ ___ __ _| |_  | __|_ ___ __  ___ __| |_ __ _| |_(_)___ _ _  ___\n",
      "| (_ | '_/ -_) _` |  _| | _|\\ \\ / '_ \\/ -_) _|  _/ _` |  _| / _ \\ ' \\(_-<\n",
      " \\___|_| \\___\\__,_|\\__| |___/_\\_\\ .__/\\___\\__|\\__\\__,_|\\__|_\\___/_||_/__/\n",
      "                                |_|\n",
      "             ~ Always know what to expect from your data ~\n",
      "\u001b[0m\n",
      "\n",
      "================================================================================\n",
      "\n",
      "\u001b[36mCongratulations! You are now ready to customize your Great Expectations configuration.\u001b[0m\n",
      "\n",
      "\u001b[36mYou can customize your configuration in many ways. Here are some examples:\u001b[0m\n",
      "\n",
      "  \u001b[36mUse the CLI to:\u001b[0m\n",
      "    - Run `\u001b[32mgreat_expectations datasource new\u001b[0m` to connect to your data.\n",
      "    - Run `\u001b[32mgreat_expectations checkpoint new <checkpoint_name>\u001b[0m` to bundle data with Expectation Suite(s) in a Checkpoint for later re-validation.\n",
      "    - Run `\u001b[32mgreat_expectations suite --help\u001b[0m` to create, edit, list, profile Expectation Suites.\n",
      "    - Run `\u001b[32mgreat_expectations docs --help\u001b[0m` to build and manage Data Docs sites.\n",
      "\n",
      "  \u001b[36mEdit your configuration in great_expectations.yml to:\u001b[0m\n",
      "    - Move Stores to the cloud\n",
      "    - Add Slack notifications, PagerDuty alerts, etc.\n",
      "    - Customize your Data Docs\n",
      "\n",
      "\u001b[36mPlease see our documentation for more configuration options!\u001b[0m\n",
      "\n",
      "\u001b[0m"
     ]
    }
   ],
   "source": [
    "# !great_expectations -y init"
   ]
  },
  {
   "cell_type": "code",
   "execution_count": 4,
   "id": "f7f7a272-18cf-4bd0-af88-744346941b71",
   "metadata": {},
   "outputs": [],
   "source": [
    "context = ge.get_context()"
   ]
  },
  {
   "cell_type": "code",
   "execution_count": 5,
   "id": "c5eca0ec-5b93-4b91-8e8e-7f1e54b1d7b9",
   "metadata": {},
   "outputs": [],
   "source": [
    "user=os.getenv('SNOWFLAKE_USER')\n",
    "password=quote(os.getenv('SNOWFLAKE_PASS')) # encoding to handle special chars in password\n",
    "account=os.getenv('SNOWFLAKE_ACCOUNT')\n",
    "role=\"ACCOUNTADMIN\"\n",
    "warehouse=\"test_warehouse\"\n",
    "datbase=\"test_db\"\n",
    "schema=\"test_schema\"\n",
    "table=\"test_table\""
   ]
  },
  {
   "cell_type": "code",
   "execution_count": 6,
   "id": "0f93bd77-335d-4296-bf52-da417de5a3ea",
   "metadata": {},
   "outputs": [],
   "source": [
    "# connection string format: \"snowflake://<USER_NAME>:<PASSWORD>@<ACCOUNT_NAME_OR_LOCATOR>/<DATABASE_NAME>/<SCHEMA_NAME>?warehouse=<WAREHOUSE_NAME>&role=<ROLE_NAME>\"\n",
    "my_connection_string = f\"snowflake://{user}:{password}@{account}/{datbase}/{schema}?warehouse={warehouse}&role={role}\""
   ]
  },
  {
   "cell_type": "code",
   "execution_count": 7,
   "id": "17c105ff-9e55-4a1b-8e34-3aa7af374226",
   "metadata": {},
   "outputs": [],
   "source": [
    "datasource_name = \"test_snowflake_datasource\"\n",
    "# # Creating Data source\n",
    "# datasource = context.sources.add_snowflake(\n",
    "#     name=datasource_name, \n",
    "#     connection_string=my_connection_string\n",
    "# )"
   ]
  },
  {
   "cell_type": "code",
   "execution_count": 8,
   "id": "a3731d02-03ca-4693-b068-2d8d4ce1d91c",
   "metadata": {},
   "outputs": [],
   "source": [
    "datasource = context.datasources[datasource_name]"
   ]
  },
  {
   "cell_type": "code",
   "execution_count": 9,
   "id": "d25d0bac-185b-4174-8203-48d0d3b8ee93",
   "metadata": {},
   "outputs": [],
   "source": [
    "asset_name = \"test_asset\"\n",
    "asset_table_name = table"
   ]
  },
  {
   "cell_type": "code",
   "execution_count": null,
   "id": "afe2103f-ecfe-4122-9d59-28f1c39220ee",
   "metadata": {},
   "outputs": [],
   "source": [
    "# # Creating table asset\n",
    "# table_asset = datasource.add_table_asset(name=asset_name, table_name=asset_table_name)"
   ]
  },
  {
   "cell_type": "code",
   "execution_count": 12,
   "id": "55e9d2b9-f71b-41f8-a1fb-b11686040803",
   "metadata": {},
   "outputs": [],
   "source": [
    "#optional query asset \n",
    "# asset_name = \"test_query_asset\"\n",
    "# query = f\"SELECT * from {table} where ACCOUNTBALANCE > 500000\"\n",
    "# query_asset = datasource.add_query_asset(name=asset_name, query=query)"
   ]
  },
  {
   "cell_type": "code",
   "execution_count": 10,
   "id": "d58153e3-1a69-4083-8dcd-fa073f174f2d",
   "metadata": {},
   "outputs": [],
   "source": [
    "data_asset = context.get_datasource(datasource_name).get_asset(asset_name)\n",
    "batch_request = data_asset.build_batch_request()"
   ]
  },
  {
   "cell_type": "code",
   "execution_count": 11,
   "id": "3c7da316-4929-4479-9017-a302c7ce60de",
   "metadata": {},
   "outputs": [
    {
     "data": {
      "text/plain": [
       "{\n",
       "  \"expectation_suite_name\": \"test_expectation_suite\",\n",
       "  \"ge_cloud_id\": null,\n",
       "  \"expectations\": [],\n",
       "  \"data_asset_type\": null,\n",
       "  \"meta\": {\n",
       "    \"great_expectations_version\": \"0.17.14\"\n",
       "  }\n",
       "}"
      ]
     },
     "execution_count": 11,
     "metadata": {},
     "output_type": "execute_result"
    }
   ],
   "source": [
    "context.add_or_update_expectation_suite(\"test_expectation_suite\")"
   ]
  },
  {
   "cell_type": "code",
   "execution_count": 12,
   "id": "bf39a688-d13a-4975-af4a-99e96dbde792",
   "metadata": {},
   "outputs": [
    {
     "data": {
      "application/vnd.jupyter.widget-view+json": {
       "model_id": "c1b0907f785343af85b49410d0fea7f0",
       "version_major": 2,
       "version_minor": 0
      },
      "text/plain": [
       "Calculating Metrics:   0%|          | 0/1 [00:00<?, ?it/s]"
      ]
     },
     "metadata": {},
     "output_type": "display_data"
    },
    {
     "data": {
      "text/html": [
       "<div>\n",
       "<style scoped>\n",
       "    .dataframe tbody tr th:only-of-type {\n",
       "        vertical-align: middle;\n",
       "    }\n",
       "\n",
       "    .dataframe tbody tr th {\n",
       "        vertical-align: top;\n",
       "    }\n",
       "\n",
       "    .dataframe thead th {\n",
       "        text-align: right;\n",
       "    }\n",
       "</style>\n",
       "<table border=\"1\" class=\"dataframe\">\n",
       "  <thead>\n",
       "    <tr style=\"text-align: right;\">\n",
       "      <th></th>\n",
       "      <th>name</th>\n",
       "      <th>email</th>\n",
       "      <th>dateofbirth</th>\n",
       "      <th>accountbalance</th>\n",
       "    </tr>\n",
       "  </thead>\n",
       "  <tbody>\n",
       "    <tr>\n",
       "      <th>0</th>\n",
       "      <td>Tommy Washington</td>\n",
       "      <td>hjohnson@example.com</td>\n",
       "      <td>1932-09-15</td>\n",
       "      <td>144273</td>\n",
       "    </tr>\n",
       "    <tr>\n",
       "      <th>1</th>\n",
       "      <td>Kimberly Park</td>\n",
       "      <td>tjohnson@example.com</td>\n",
       "      <td>1908-07-28</td>\n",
       "      <td>740555</td>\n",
       "    </tr>\n",
       "    <tr>\n",
       "      <th>2</th>\n",
       "      <td>Madison Price</td>\n",
       "      <td>rosaleswalter@example.org</td>\n",
       "      <td>1920-08-27</td>\n",
       "      <td>636655</td>\n",
       "    </tr>\n",
       "    <tr>\n",
       "      <th>3</th>\n",
       "      <td>Justin Smith</td>\n",
       "      <td>elizabetherickson@example.com</td>\n",
       "      <td>1975-11-16</td>\n",
       "      <td>822670</td>\n",
       "    </tr>\n",
       "    <tr>\n",
       "      <th>4</th>\n",
       "      <td>Jason Mills</td>\n",
       "      <td>troy16@example.com</td>\n",
       "      <td>1938-03-29</td>\n",
       "      <td>417362</td>\n",
       "    </tr>\n",
       "  </tbody>\n",
       "</table>\n",
       "</div>"
      ],
      "text/plain": [
       "               name                          email dateofbirth  accountbalance\n",
       "0  Tommy Washington           hjohnson@example.com  1932-09-15          144273\n",
       "1     Kimberly Park           tjohnson@example.com  1908-07-28          740555\n",
       "2     Madison Price      rosaleswalter@example.org  1920-08-27          636655\n",
       "3      Justin Smith  elizabetherickson@example.com  1975-11-16          822670\n",
       "4       Jason Mills             troy16@example.com  1938-03-29          417362"
      ]
     },
     "execution_count": 12,
     "metadata": {},
     "output_type": "execute_result"
    }
   ],
   "source": [
    "validator = context.get_validator(\n",
    "    batch_request=batch_request,\n",
    "    expectation_suite_name=\"test_expectation_suite\",\n",
    ")\n",
    "validator.head()"
   ]
  },
  {
   "cell_type": "code",
   "execution_count": 13,
   "id": "08306704-0366-4406-a5a0-1552345f5b10",
   "metadata": {},
   "outputs": [
    {
     "data": {
      "application/vnd.jupyter.widget-view+json": {
       "model_id": "f22d99109ff8453fa42f2cb7ea42583e",
       "version_major": 2,
       "version_minor": 0
      },
      "text/plain": [
       "Calculating Metrics:   0%|          | 0/8 [00:00<?, ?it/s]"
      ]
     },
     "metadata": {},
     "output_type": "display_data"
    },
    {
     "data": {
      "application/vnd.jupyter.widget-view+json": {
       "model_id": "c256bc7995a6459a84ea706ba5c1f2c5",
       "version_major": 2,
       "version_minor": 0
      },
      "text/plain": [
       "Calculating Metrics:   0%|          | 0/8 [00:00<?, ?it/s]"
      ]
     },
     "metadata": {},
     "output_type": "display_data"
    },
    {
     "data": {
      "text/plain": [
       "{\n",
       "  \"success\": true,\n",
       "  \"result\": {\n",
       "    \"element_count\": 100,\n",
       "    \"unexpected_count\": 0,\n",
       "    \"unexpected_percent\": 0.0,\n",
       "    \"partial_unexpected_list\": []\n",
       "  },\n",
       "  \"meta\": {},\n",
       "  \"exception_info\": {\n",
       "    \"raised_exception\": false,\n",
       "    \"exception_traceback\": null,\n",
       "    \"exception_message\": null\n",
       "  }\n",
       "}"
      ]
     },
     "execution_count": 13,
     "metadata": {},
     "output_type": "execute_result"
    }
   ],
   "source": [
    "validator.expect_column_values_to_not_be_null(column=\"name\")\n",
    "validator.expect_column_values_to_not_be_null(column=\"accountbalance\")"
   ]
  },
  {
   "cell_type": "code",
   "execution_count": 14,
   "id": "51f30788-2c4a-4607-954a-6d6c89d2a5cc",
   "metadata": {},
   "outputs": [],
   "source": [
    "validator.save_expectation_suite(discard_failed_expectations=False)"
   ]
  },
  {
   "cell_type": "code",
   "execution_count": 31,
   "id": "2fde682c-7fbb-4202-834b-f96a68f45389",
   "metadata": {},
   "outputs": [],
   "source": [
    "checkpoint = context.add_or_update_checkpoint(\n",
    "    name=\"test_checkpoint\",\n",
    "    run_name_template=\"test-run_%Y-%m-%d_%H:%M\",\n",
    "    expectation_suite_name=\"test_expectation_suite\",\n",
    "    validations=[\n",
    "        {\n",
    "            \"batch_request\": batch_request,\n",
    "        },\n",
    "    ],\n",
    ")"
   ]
  },
  {
   "cell_type": "code",
   "execution_count": 18,
   "id": "3c8d8c3d-13b9-4d23-abdb-5f4769776253",
   "metadata": {},
   "outputs": [
    {
     "data": {
      "application/vnd.jupyter.widget-view+json": {
       "model_id": "406698ea20bb4b62866bbcd0274e2ac3",
       "version_major": 2,
       "version_minor": 0
      },
      "text/plain": [
       "Calculating Metrics:   0%|          | 0/16 [00:00<?, ?it/s]"
      ]
     },
     "metadata": {},
     "output_type": "display_data"
    },
    {
     "data": {
      "text/plain": [
       "{'local_site': 'file:///home/yogi/DE/great_expectations/great_expectations/uncommitted/data_docs/local_site/index.html'}"
      ]
     },
     "execution_count": 18,
     "metadata": {},
     "output_type": "execute_result"
    }
   ],
   "source": [
    "#optional checkpoint commands:\n",
    "# checkpoint_result = checkpoint.run(run_name=\"test_run\")\n",
    "# context.build_data_docs()\n",
    "# retrieved_checkpoint = context.get_checkpoint(name=\"test_checkpoint\")\n",
    "\n",
    "# # test yaml syntax of provided string(yaml_config) is correct\n",
    "# my_checkpoint = context.test_yaml_config(yaml_config=yaml_config)"
   ]
  },
  {
   "cell_type": "code",
   "execution_count": 33,
   "id": "d5e6f0f8-0858-4e96-8a8d-6903106ae0bc",
   "metadata": {},
   "outputs": [
    {
     "data": {
      "application/vnd.jupyter.widget-view+json": {
       "model_id": "af47c326261b49ed84b0f64a80facc1f",
       "version_major": 2,
       "version_minor": 0
      },
      "text/plain": [
       "Calculating Metrics:   0%|          | 0/16 [00:00<?, ?it/s]"
      ]
     },
     "metadata": {},
     "output_type": "display_data"
    }
   ],
   "source": [
    "\n",
    "checkpoint_result = checkpoint.run()\n",
    "# context.build_data_docs()"
   ]
  },
  {
   "cell_type": "code",
   "execution_count": null,
   "id": "50810c28-2388-40e8-84ef-86cbb97f9cac",
   "metadata": {},
   "outputs": [],
   "source": []
  }
 ],
 "metadata": {
  "kernelspec": {
   "display_name": "Python 3 (ipykernel)",
   "language": "python",
   "name": "python3"
  },
  "language_info": {
   "codemirror_mode": {
    "name": "ipython",
    "version": 3
   },
   "file_extension": ".py",
   "mimetype": "text/x-python",
   "name": "python",
   "nbconvert_exporter": "python",
   "pygments_lexer": "ipython3",
   "version": "3.10.12"
  }
 },
 "nbformat": 4,
 "nbformat_minor": 5
}
