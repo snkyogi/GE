{
 "cells": [
  {
   "cell_type": "code",
   "execution_count": 3,
   "id": "c8eaca48-df0f-492d-b089-939f6007dac5",
   "metadata": {},
   "outputs": [],
   "source": [
    "# S3 bucket creation: Server-side encryption with Amazon S3 managed keys (SSE-S3)"
   ]
  },
  {
   "cell_type": "code",
   "execution_count": 1,
   "id": "306d3c86-1aa8-418a-a61c-8514cde45a63",
   "metadata": {},
   "outputs": [
    {
     "name": "stdout",
     "output_type": "stream",
     "text": [
      "2023-09-25 18:37:22 greatexpectationstestbucket\n"
     ]
    }
   ],
   "source": [
    "!aws s3 ls"
   ]
  },
  {
   "cell_type": "code",
   "execution_count": 65,
   "id": "4b80d75c-1126-488f-b0e7-906afb092b25",
   "metadata": {},
   "outputs": [
    {
     "name": "stdout",
     "output_type": "stream",
     "text": [
      "Requirement already satisfied: boto3 in /home/yogi/DE/default_env/lib/python3.10/site-packages (1.28.53)\n",
      "Requirement already satisfied: s3transfer<0.7.0,>=0.6.0 in /home/yogi/DE/default_env/lib/python3.10/site-packages (from boto3) (0.6.2)\n",
      "Requirement already satisfied: botocore<1.32.0,>=1.31.53 in /home/yogi/DE/default_env/lib/python3.10/site-packages (from boto3) (1.31.53)\n",
      "Requirement already satisfied: jmespath<2.0.0,>=0.7.1 in /home/yogi/DE/default_env/lib/python3.10/site-packages (from boto3) (1.0.1)\n",
      "Requirement already satisfied: python-dateutil<3.0.0,>=2.1 in /home/yogi/DE/default_env/lib/python3.10/site-packages (from botocore<1.32.0,>=1.31.53->boto3) (2.8.2)\n",
      "Requirement already satisfied: urllib3<1.27,>=1.25.4 in /home/yogi/DE/default_env/lib/python3.10/site-packages (from botocore<1.32.0,>=1.31.53->boto3) (1.26.16)\n",
      "Requirement already satisfied: six>=1.5 in /home/yogi/DE/default_env/lib/python3.10/site-packages (from python-dateutil<3.0.0,>=2.1->botocore<1.32.0,>=1.31.53->boto3) (1.16.0)\n"
     ]
    }
   ],
   "source": [
    "!pip install boto3"
   ]
  },
  {
   "cell_type": "code",
   "execution_count": null,
   "id": "db39a81d-5cc4-4e6c-8813-a41bdacfc0d0",
   "metadata": {},
   "outputs": [],
   "source": [
    "# Multipart Upload:\n",
    "# Chunked upload:"
   ]
  },
  {
   "cell_type": "code",
   "execution_count": 4,
   "id": "e7e41952-e7ce-4955-9df2-eb6207ab4e7e",
   "metadata": {},
   "outputs": [
    {
     "name": "stdout",
     "output_type": "stream",
     "text": [
      "\u001b[0m\u001b[01;34maws\u001b[0m/  aws_checksum.ipynb  \u001b[01;31mawscliv2.zip\u001b[0m  data.csv  src_file.csv\n"
     ]
    }
   ],
   "source": [
    "ls"
   ]
  },
  {
   "cell_type": "code",
   "execution_count": 9,
   "id": "4e25bef2-db65-4865-b8f3-057a14aaef9e",
   "metadata": {},
   "outputs": [],
   "source": [
    "import pandas as pd\n",
    "df = pd.read_csv(\"src_file.csv\",nrows=120000)\n",
    "df.to_csv(\"data.csv\",index=False)"
   ]
  },
  {
   "cell_type": "code",
   "execution_count": 25,
   "id": "6a208458-7ca6-4bbc-bc78-dde28658c3ee",
   "metadata": {},
   "outputs": [],
   "source": [
    "from boto3.s3.transfer import TransferConfig\n",
    "import boto3\n",
    "import os\n",
    "import threading\n",
    "import sys \n",
    "\n",
    "s3_resource = boto3.resource('s3')\n",
    "\n",
    "config = TransferConfig(multipart_threshold=1024 * 5, \n",
    "                        max_concurrency=10,\n",
    "                        multipart_chunksize=1024 * 5,\n",
    "                        use_threads=True)\n",
    "\n",
    "\n",
    "class ProgressPercentage(object):\n",
    "    def __init__(self, filename):\n",
    "        self._filename = filename\n",
    "        self._size = float(os.path.getsize(filename))\n",
    "        self._seen_so_far = 0\n",
    "        self._lock = threading.Lock()\n",
    "\n",
    "    def __call__(self, bytes_amount):\n",
    "        with self._lock:\n",
    "            self._seen_so_far += bytes_amount\n",
    "            percentage = (self._seen_so_far / self._size) * 100\n",
    "            sys.stdout.write(\n",
    "                \"\\r%s  %s / %s  (%.2f%%)\" % (\n",
    "                    self._filename, self._seen_so_far, self._size,\n",
    "                    percentage))\n",
    "            sys.stdout.flush()"
   ]
  },
  {
   "cell_type": "code",
   "execution_count": 26,
   "id": "76be63b2-9870-49c9-9936-0506033602c0",
   "metadata": {},
   "outputs": [
    {
     "name": "stdout",
     "output_type": "stream",
     "text": [
      "data.csv  13824034 / 13824034.0  (100.00%)"
     ]
    }
   ],
   "source": [
    "bucket_name = 'xxxx'\n",
    "def multipart_upload_boto3():\n",
    "\n",
    "    file_path = 'data.csv'\n",
    "    key = 'data.csv'\n",
    "\n",
    "    s3_resource.Object(bucket_name, key).upload_file(file_path,\n",
    "                            ExtraArgs={'ContentType': 'text/pdf'},\n",
    "                            Config=config,\n",
    "                            Callback=ProgressPercentage(file_path)\n",
    "                            )\n",
    "multipart_upload_boto3()"
   ]
  },
  {
   "cell_type": "code",
   "execution_count": 1,
   "id": "91bfcdcf-f455-4971-9379-52d931e6cb43",
   "metadata": {},
   "outputs": [],
   "source": [
    "# Retrieving E-tag"
   ]
  },
  {
   "cell_type": "code",
   "execution_count": 14,
   "id": "a27c3d97-c1ca-460a-8814-c21da0d1fcdc",
   "metadata": {},
   "outputs": [],
   "source": [
    "import boto3\n",
    "import hashlib"
   ]
  },
  {
   "cell_type": "code",
   "execution_count": 3,
   "id": "e114dfcd-30ee-4acd-92c5-119f3b75ad44",
   "metadata": {},
   "outputs": [],
   "source": [
    "s3_cli = boto3.client('s3')"
   ]
  },
  {
   "cell_type": "code",
   "execution_count": 4,
   "id": "56f79d91-e4fc-44ee-9a61-52eca5b3b43b",
   "metadata": {},
   "outputs": [],
   "source": [
    "s3_resp = s3_cli.head_object(Bucket='xxxx', Key='data.csv')"
   ]
  },
  {
   "cell_type": "code",
   "execution_count": 12,
   "id": "96b14f47-b401-4bf3-a288-395356bb347e",
   "metadata": {},
   "outputs": [
    {
     "data": {
      "text/plain": [
       "'1f40a2acd597ff10764fd31a5bdb71d6-3'"
      ]
     },
     "execution_count": 12,
     "metadata": {},
     "output_type": "execute_result"
    }
   ],
   "source": [
    "s3_resp['ETag'].strip('\"')"
   ]
  },
  {
   "cell_type": "code",
   "execution_count": 19,
   "id": "78123e27-7e73-4f2b-b44d-7f602a26d997",
   "metadata": {},
   "outputs": [
    {
     "data": {
      "text/plain": [
       "'\"97c15a899046bab63e56b7191b90fea2-3\"'"
      ]
     },
     "execution_count": 19,
     "metadata": {},
     "output_type": "execute_result"
    }
   ],
   "source": [
    "def calculate_s3_etag(file_path, chunk_size=6 * 1024 * 1024):\n",
    "    md5s = []\n",
    "\n",
    "    with open(file_path, 'rb') as fp:\n",
    "        while True:\n",
    "            data = fp.read(chunk_size)\n",
    "            if not data:\n",
    "                break\n",
    "            md5s.append(hashlib.md5(data))\n",
    "\n",
    "    if len(md5s) < 1:\n",
    "        return '\"{}\"'.format(hashlib.md5().hexdigest())\n",
    "\n",
    "    if len(md5s) == 1:\n",
    "        return '\"{}\"'.format(md5s[0].hexdigest())\n",
    "\n",
    "    digests = b''.join(m.digest() for m in md5s)\n",
    "    digests_md5 = hashlib.md5(digests)\n",
    "    return '\"{}-{}\"'.format(digests_md5.hexdigest(), len(md5s))\n",
    "calculate_s3_etag('data.csv',chunk_size=6*1024*1024)"
   ]
  },
  {
   "cell_type": "code",
   "execution_count": null,
   "id": "7e7f79a4-182c-4880-bd51-5b5f579eb258",
   "metadata": {},
   "outputs": [],
   "source": []
  },
  {
   "cell_type": "code",
   "execution_count": 28,
   "id": "124ccdde-6d51-4ae1-a8ea-ca1a858e1b54",
   "metadata": {},
   "outputs": [
    {
     "name": "stdout",
     "output_type": "stream",
     "text": [
      "1f40a2acd597ff10764fd31a5bdb71d6-3\n"
     ]
    },
    {
     "data": {
      "text/plain": [
       "'1f40a2acd597ff10764fd31a5bdb71d6-3'"
      ]
     },
     "execution_count": 28,
     "metadata": {},
     "output_type": "execute_result"
    }
   ],
   "source": [
    "def md5_checksum(filename):\n",
    "    m = hashlib.md5()\n",
    "    with open(filename, 'rb') as f:\n",
    "        for data in iter(lambda: f.read(1024 * 1024), b''):\n",
    "            m.update(data)\n",
    "   \n",
    "    return m.hexdigest()\n",
    "\n",
    "\n",
    "def etag_checksum(filename, chunk_size=5 * 1024 * 1024):\n",
    "    md5s = []\n",
    "    with open(filename, 'rb') as f:\n",
    "        for data in iter(lambda: f.read(chunk_size), b''):\n",
    "            md5s.append(hashlib.md5(data).digest())\n",
    "    m = hashlib.md5(b\"\".join(md5s))\n",
    "    print('{}-{}'.format(m.hexdigest(), len(md5s)))\n",
    "    return '{}-{}'.format(m.hexdigest(), len(md5s))\n",
    "\n",
    "\n",
    "checksum = etag_checksum('data.csv')\n",
    "checksum"
   ]
  },
  {
   "cell_type": "code",
   "execution_count": null,
   "id": "c2532a3e-d313-45dd-a443-d5f6ed52fd9b",
   "metadata": {},
   "outputs": [],
   "source": []
  },
  {
   "cell_type": "code",
   "execution_count": 48,
   "id": "1282e2a3-f081-4646-967e-50bdd37cae1d",
   "metadata": {},
   "outputs": [],
   "source": [
    "# python credit/debit card check - Luhn’s algorithm\n",
    "import math\n"
   ]
  },
  {
   "cell_type": "code",
   "execution_count": 64,
   "id": "deeb941b-186e-4e8e-bdca-6f5828ca148a",
   "metadata": {},
   "outputs": [
    {
     "name": "stdout",
     "output_type": "stream",
     "text": [
      "4100-2463-1118-7264 is Valid\n",
      "4281-9400-6897-1166 is Valid\n",
      "4078-0400-0914-6113 is Invalid\n"
     ]
    }
   ],
   "source": [
    "def is_valid_card(card_num_str):\n",
    "    card_num_str = card_num_str.replace(\"-\",\"\").replace(\" \",\"\")\n",
    "    card_nums = [int(val) for val in card_num_str]\n",
    "    card_nums[::2] = [math.floor((2*val)/10)+((2*val)%10) for val in card_nums[::2]]\n",
    "    if sum(card_nums) % 10 == 0:\n",
    "        return True\n",
    "    else:\n",
    "        return False\n",
    "\n",
    "#below card numbers are synthetically generated\n",
    "for card in [\"4100-2463-1118-7264\",\"4281-9400-6897-1166\",\"4078-0400-0914-6113\"]:\n",
    "    if is_valid_card(card):\n",
    "        print(f\"{card} is Valid\")\n",
    "    else:\n",
    "        print(f\"{card} is Invalid\")\n",
    "        "
   ]
  },
  {
   "cell_type": "code",
   "execution_count": 45,
   "id": "042ee263-e319-437f-a100-7c7f0be934bc",
   "metadata": {},
   "outputs": [],
   "source": []
  },
  {
   "cell_type": "code",
   "execution_count": 47,
   "id": "3731ac68-8ffc-48e6-ac3c-7f6ed60fb157",
   "metadata": {},
   "outputs": [
    {
     "data": {
      "text/plain": [
       "1"
      ]
     },
     "execution_count": 47,
     "metadata": {},
     "output_type": "execute_result"
    }
   ],
   "source": [
    "math.floor(1.9)"
   ]
  },
  {
   "cell_type": "code",
   "execution_count": null,
   "id": "cda969f4-ebdc-4c64-aaa5-b4e603160a89",
   "metadata": {},
   "outputs": [],
   "source": []
  }
 ],
 "metadata": {
  "kernelspec": {
   "display_name": "Python 3 (ipykernel)",
   "language": "python",
   "name": "python3"
  },
  "language_info": {
   "codemirror_mode": {
    "name": "ipython",
    "version": 3
   },
   "file_extension": ".py",
   "mimetype": "text/x-python",
   "name": "python",
   "nbconvert_exporter": "python",
   "pygments_lexer": "ipython3",
   "version": "3.10.12"
  }
 },
 "nbformat": 4,
 "nbformat_minor": 5
}
